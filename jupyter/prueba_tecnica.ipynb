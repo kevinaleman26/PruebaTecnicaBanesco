{
 "cells": [
  {
   "cell_type": "code",
   "execution_count": 1,
   "id": "84dab5b9",
   "metadata": {},
   "outputs": [
    {
     "name": "stdout",
     "output_type": "stream",
     "text": [
      "Requirement already satisfied: pandas in /opt/homebrew/lib/python3.10/site-packages (2.3.3)\n",
      "Requirement already satisfied: requests in /opt/homebrew/lib/python3.10/site-packages (2.32.5)\n",
      "Requirement already satisfied: numpy>=1.22.4 in /opt/homebrew/lib/python3.10/site-packages (from pandas) (2.2.6)\n",
      "Requirement already satisfied: python-dateutil>=2.8.2 in /Users/kevinaleman/Library/Python/3.10/lib/python/site-packages (from pandas) (2.9.0.post0)\n",
      "Requirement already satisfied: pytz>=2020.1 in /opt/homebrew/lib/python3.10/site-packages (from pandas) (2025.2)\n",
      "Requirement already satisfied: tzdata>=2022.7 in /opt/homebrew/lib/python3.10/site-packages (from pandas) (2025.2)\n",
      "Requirement already satisfied: charset_normalizer<4,>=2 in /opt/homebrew/lib/python3.10/site-packages (from requests) (3.4.4)\n",
      "Requirement already satisfied: idna<4,>=2.5 in /opt/homebrew/lib/python3.10/site-packages (from requests) (3.11)\n",
      "Requirement already satisfied: urllib3<3,>=1.21.1 in /opt/homebrew/lib/python3.10/site-packages (from requests) (2.5.0)\n",
      "Requirement already satisfied: certifi>=2017.4.17 in /opt/homebrew/lib/python3.10/site-packages (from requests) (2025.10.5)\n",
      "Requirement already satisfied: six>=1.5 in /Users/kevinaleman/Library/Python/3.10/lib/python/site-packages (from python-dateutil>=2.8.2->pandas) (1.17.0)\n",
      "\n",
      "\u001b[1m[\u001b[0m\u001b[34;49mnotice\u001b[0m\u001b[1;39;49m]\u001b[0m\u001b[39;49m A new release of pip is available: \u001b[0m\u001b[31;49m25.1.1\u001b[0m\u001b[39;49m -> \u001b[0m\u001b[32;49m25.2\u001b[0m\n",
      "\u001b[1m[\u001b[0m\u001b[34;49mnotice\u001b[0m\u001b[1;39;49m]\u001b[0m\u001b[39;49m To update, run: \u001b[0m\u001b[32;49m/opt/homebrew/opt/python@3.10/bin/python3.10 -m pip install --upgrade pip\u001b[0m\n",
      "Note: you may need to restart the kernel to use updated packages.\n"
     ]
    }
   ],
   "source": [
    "pip install pandas requests"
   ]
  },
  {
   "cell_type": "code",
   "execution_count": 2,
   "id": "fe74a566",
   "metadata": {},
   "outputs": [],
   "source": [
    "import requests\n",
    "import pandas as pd\n",
    "from pathlib import Path\n",
    "import json\n",
    "from dataclasses import dataclass, asdict"
   ]
  },
  {
   "cell_type": "code",
   "execution_count": 3,
   "id": "f53a0100",
   "metadata": {},
   "outputs": [],
   "source": [
    "# URL del endpoint de la API pública de prueba (JSONPlaceholder)\n",
    "USER_API_URL = \"https://jsonplaceholder.typicode.com/users\"\n",
    "WEATHER_API_KEY = \"6d3845d7ba9032d63278d8eb8be33f07\""
   ]
  },
  {
   "cell_type": "code",
   "execution_count": 4,
   "id": "1c7f7f32",
   "metadata": {},
   "outputs": [],
   "source": [
    "def read_orders_csv(file_name: str = \"orders.csv\"):\n",
    "    \"\"\"\n",
    "    Lee un archivo CSV del directorio actual y lo carga en un DataFrame de Pandas.\n",
    "\n",
    "    Args:\n",
    "        file_name (str): El nombre del archivo CSV a leer. Por defecto, 'orders.csv'.\n",
    "\n",
    "    Returns:\n",
    "        pd.DataFrame | None: El DataFrame con los datos de las órdenes, \n",
    "                             o None si el archivo no se encuentra o hay un error.\n",
    "    \"\"\"\n",
    "    # 1. Definir la ruta del archivo (asume que está en el mismo directorio)\n",
    "    file_path = Path.cwd() / file_name  # Path.cwd() obtiene el directorio de trabajo actual\n",
    "    \n",
    "    print(f\"[*] Intentando leer el archivo: {file_path}\")\n",
    "    \n",
    "    try:\n",
    "        # 2. Leer el archivo CSV usando Pandas\n",
    "        df = pd.read_csv(file_path,sep=r\"\\s*[;,]\\s*\",engine=\"python\")\n",
    "        \n",
    "        df_sorted = df.sort_values(by=\"Rep\").reset_index(drop=True)\n",
    "        \n",
    "        # 3. Reportar éxito\n",
    "        print(f\"[ÉXITO] Archivo '{file_name}' cargado correctamente.\")\n",
    "        print(f\"[*] Filas leídas: {len(df_sorted)}. Columnas: {len(df_sorted.columns)}.\")\n",
    "        \n",
    "        return df_sorted\n",
    "        \n",
    "    except FileNotFoundError:\n",
    "        # Manejo de error si el archivo no existe\n",
    "        print(\"-\" * 50)\n",
    "        print(f\"[ERROR] Archivo NO encontrado: '{file_name}'\")\n",
    "        print(f\"[SUGERENCIA] Asegúrate de que el archivo exista en la ruta: {file_path}\")\n",
    "        return None\n",
    "        \n",
    "    except pd.errors.EmptyDataError:\n",
    "        # Manejo de error si el archivo existe pero está vacío\n",
    "        print(f\"[ERROR] Archivo encontrado, pero está vacío: '{file_name}'\")\n",
    "        return None\n",
    "        \n",
    "    except Exception as e:\n",
    "        # Manejo de otros errores (ej. problemas de codificación)\n",
    "        print(f\"[ERROR INESPERADO] Ocurrió un error al leer el CSV: {e}\")\n",
    "        return None"
   ]
  },
  {
   "cell_type": "code",
   "execution_count": 5,
   "id": "a4629752",
   "metadata": {},
   "outputs": [],
   "source": [
    "def read_data_from_file():\n",
    "    orders_df = read_orders_csv()\n",
    "\n",
    "    if orders_df is None:\n",
    "        print(\"\\n\" + \"=\" * 50)\n",
    "        print(\"No se pudo proceder con el análisis de datos.\")\n",
    "        print(\"=\" * 50)\n",
    "        return orders_df\n",
    "\n",
    "    return orders_df"
   ]
  },
  {
   "cell_type": "code",
   "execution_count": 6,
   "id": "877b9632",
   "metadata": {},
   "outputs": [],
   "source": [
    "def fetch_data_from_api_weather(lat: str, lon: str):\n",
    "    \"\"\"\n",
    "    Realiza una solicitud GET a la URL especificada y procesa la respuesta.\n",
    "    \"\"\"\n",
    "    WEATHER_API_URL = f\"https://api.openweathermap.org/data/3.0/onecall?lat={lat}&lon={lon}&appid={WEATHER_API_KEY}\"\n",
    "    print(f\"[*] Haciendo solicitud GET a: {WEATHER_API_URL}\")\n",
    "    \n",
    "    try:\n",
    "        # 1. Realizar la solicitud HTTP GET\n",
    "        # La solicitud es síncrona: el programa espera aquí hasta que la API responde.\n",
    "        response = requests.get(WEATHER_API_URL)\n",
    "        \n",
    "        # 2. Verificar el estado de la respuesta\n",
    "        # .raise_for_status() lanzará una excepción (HTTPError) para códigos de error 4xx/5xx\n",
    "        response.raise_for_status() \n",
    "        \n",
    "        # 3. Extraer y retornar los datos JSON\n",
    "        # .json() automáticamente parsea la respuesta de texto a un diccionario/lista de Python\n",
    "        data = response.json()\n",
    "        \n",
    "        return data\n",
    "\n",
    "    except requests.exceptions.HTTPError as err_http:\n",
    "        # Manejo de errores HTTP (404 Not Found, 500 Internal Server Error, etc.)\n",
    "        print(f\"[ERROR HTTP]: La API devolvió un error. Código: {response.status_code}\")\n",
    "        print(f\"Detalles: {err_http}\")\n",
    "        return None\n",
    "        \n",
    "    except requests.exceptions.ConnectionError:\n",
    "        # Manejo de errores de conexión (ej. no hay internet, DNS falló)\n",
    "        print(\"[ERROR CONEXIÓN]: No se pudo conectar a la URL. Verifique su conexión y la URL.\")\n",
    "        return None\n",
    "        \n",
    "    except requests.exceptions.Timeout:\n",
    "        # Manejo de errores de timeout\n",
    "        print(\"[ERROR TIMEOUT]: La solicitud expiró.\")\n",
    "        return None\n",
    "        \n",
    "    except requests.exceptions.RequestException as e:\n",
    "        # Manejo de cualquier otro error de requests\n",
    "        print(f\"[ERROR INESPERADO]: Ocurrió un error en la solicitud: {e}\")\n",
    "        return None"
   ]
  },
  {
   "cell_type": "code",
   "execution_count": 7,
   "id": "3e534bba",
   "metadata": {},
   "outputs": [],
   "source": [
    "def fetch_data_from_api_user():\n",
    "    \"\"\"\n",
    "    Realiza una solicitud GET a la URL especificada y procesa la respuesta.\n",
    "    \"\"\"\n",
    "    print(f\"[*] Haciendo solicitud GET a: {USER_API_URL}\")\n",
    "    \n",
    "    try:\n",
    "        # 1. Realizar la solicitud HTTP GET\n",
    "        # La solicitud es síncrona: el programa espera aquí hasta que la API responde.\n",
    "        response = requests.get(USER_API_URL)\n",
    "        \n",
    "        # 2. Verificar el estado de la respuesta\n",
    "        # .raise_for_status() lanzará una excepción (HTTPError) para códigos de error 4xx/5xx\n",
    "        response.raise_for_status() \n",
    "        \n",
    "        # 3. Extraer y retornar los datos JSON\n",
    "        # .json() automáticamente parsea la respuesta de texto a un diccionario/lista de Python\n",
    "        data = response.json()\n",
    "        \n",
    "        return data\n",
    "\n",
    "    except requests.exceptions.HTTPError as err_http:\n",
    "        # Manejo de errores HTTP (404 Not Found, 500 Internal Server Error, etc.)\n",
    "        print(f\"[ERROR HTTP]: La API devolvió un error. Código: {response.status_code}\")\n",
    "        print(f\"Detalles: {err_http}\")\n",
    "        return None\n",
    "        \n",
    "    except requests.exceptions.ConnectionError:\n",
    "        # Manejo de errores de conexión (ej. no hay internet, DNS falló)\n",
    "        print(\"[ERROR CONEXIÓN]: No se pudo conectar a la URL. Verifique su conexión y la URL.\")\n",
    "        return None\n",
    "        \n",
    "    except requests.exceptions.Timeout:\n",
    "        # Manejo de errores de timeout\n",
    "        print(\"[ERROR TIMEOUT]: La solicitud expiró.\")\n",
    "        return None\n",
    "        \n",
    "    except requests.exceptions.RequestException as e:\n",
    "        # Manejo de cualquier otro error de requests\n",
    "        print(f\"[ERROR INESPERADO]: Ocurrió un error en la solicitud: {e}\")\n",
    "        return None"
   ]
  },
  {
   "cell_type": "code",
   "execution_count": 8,
   "id": "707b0efe",
   "metadata": {},
   "outputs": [],
   "source": [
    "@dataclass\n",
    "class Weather:\n",
    "    main: str\n",
    "    celsius: float\n",
    "\n",
    "    #lat=44.34,lon=10.99\n",
    "    def __init__(self, lat, lon):\n",
    "        weather_api_response = self.get_weather_data_from_geo(lat=lat,lon=lon)\n",
    "        local_weather = weather_api_response['current']\n",
    "        self.main = local_weather['weather'][0]['main']\n",
    "        self.celsius = self.temp_kelvin_to_celsius(local_weather[\"temp\"])\n",
    "\n",
    "    @staticmethod\n",
    "    def temp_kelvin_to_celsius(kelvin):\n",
    "        celsius = kelvin - 273.15\n",
    "        return celsius\n",
    "    \n",
    "    @staticmethod\n",
    "    def get_weather_data_from_geo(lat, lon):\n",
    "        weather_dt = fetch_data_from_api_weather(lat, lon)\n",
    "        if weather_dt is None:\n",
    "            print(\"\\n[FIN] No se pudieron obtener los datos del clima.\")\n",
    "            return None\n",
    "        return weather_dt\n",
    "    \n",
    "    def __repr__(self):\n",
    "        return f\"Weather(Main='{self.main}', Celcius='{self.celsius}')\""
   ]
  },
  {
   "cell_type": "code",
   "execution_count": 9,
   "id": "94956b91",
   "metadata": {},
   "outputs": [],
   "source": [
    "@dataclass\n",
    "class Sale:\n",
    "    units: float\n",
    "    unit_cost: float\n",
    "    total: float\n",
    "    \n",
    "    def __init__(self, units, unit_cost, total):\n",
    "        self.units = units\n",
    "        self.unit_cost = unit_cost\n",
    "        self.total = total\n",
    "        \n",
    "    def sale_calculation(self):\n",
    "        self.total = self.units * self.unit_cost\n",
    "        \n",
    "    def __repr__(self):\n",
    "        return f\"Sale(units='{self.units}', unit_cost='{self.unit_cost}', total='{self.total}')\"\n",
    "    "
   ]
  },
  {
   "cell_type": "code",
   "execution_count": 10,
   "id": "05f31469",
   "metadata": {},
   "outputs": [],
   "source": [
    "@dataclass\n",
    "class SaleSummary:\n",
    "    total_units_sold: int\n",
    "    total_revenue: float\n",
    "\n",
    "    def __init__(self, sale_list: list[Sale]):\n",
    "        unit_list = []\n",
    "        total_list = []\n",
    "        for usuario in sale_list.values.tolist():\n",
    "            unit_list.append(usuario[4])\n",
    "            total_list.append(usuario[6])\n",
    "            \n",
    "        self.total_units_sold = self.total_units(unit_list)\n",
    "        self.total_revenue = self.total_revenue(total_list)\n",
    "        \n",
    "    def total_units(self, unit_list: list[int]) -> int:\n",
    "        return sum(unit_list)\n",
    "    \n",
    "    def total_revenue(self, total_list: list[float]) -> float:\n",
    "        return sum(total_list)\n",
    "        \n",
    "\n",
    "    def __repr__(self):\n",
    "        return f\"SaleSummary(total_units_sold='{self.total_units_sold}', total_revenue='{self.total_revenue}')\""
   ]
  },
  {
   "cell_type": "code",
   "execution_count": 11,
   "id": "8c21e020",
   "metadata": {},
   "outputs": [],
   "source": [
    "@dataclass\n",
    "class Geo:\n",
    "    lat: str = \"\"\n",
    "    lon: str = \"\"\n",
    "\n",
    "    def __init__(self, dt):\n",
    "        self.lat = dt['lat']\n",
    "        self.lon = dt['lng']\n",
    "\n",
    "    def __repr__(self):\n",
    "        return f\"Geo(Latitud='{self.lat}', Longitud='{self.lon}')\""
   ]
  },
  {
   "cell_type": "code",
   "execution_count": 12,
   "id": "4ea399ee",
   "metadata": {},
   "outputs": [],
   "source": [
    "@dataclass\n",
    "class Usuario:\n",
    "    id: str \n",
    "    name: str \n",
    "    username: str\n",
    "    email: str \n",
    "    geo: Geo \n",
    "\n",
    "    def __init__(self, data):\n",
    "        self.id = data['id']\n",
    "        self.name = data['name']\n",
    "        self.username = data['username']\n",
    "        self.email = data['email']\n",
    "        self.geo = Geo(data['address']['geo'])\n",
    "\n",
    "    def __repr__(self):\n",
    "        return f\"Usuario(Id='{self.id}', Name='{self.name}', Username='{self.username}', Email='{self.email}', Geo='{self.geo.__repr__()}')\"\n"
   ]
  },
  {
   "cell_type": "code",
   "execution_count": 13,
   "id": "4d3794fb",
   "metadata": {},
   "outputs": [],
   "source": [
    "@dataclass\n",
    "class SalesUsuarios:\n",
    "    userId: int\n",
    "    name: str\n",
    "    username: str\n",
    "    email: str\n",
    "    weather: Weather\n",
    "    sale_summary: SaleSummary\n",
    "\n",
    "    def __init__(self, usuario: Usuario, sale_summary: SaleSummary ):\n",
    "        self.userId = usuario.id\n",
    "        self.name = usuario.name\n",
    "        self.username = usuario.username\n",
    "        self.email = usuario.email\n",
    "        self.weather = Weather(lat=usuario.geo.lat, lon=usuario.geo.lon)\n",
    "        self.sale_summary = sale_summary\n",
    "        \n",
    "\n",
    "    def __repr__(self):\n",
    "        return f\"SalesUsuarios(userId='{self.userId}', name='{self.name}', username='{self.username}', email='{self.email}', weather='{self.weather.__repr__()}', sale_summary='{self.sale_summary.__repr__()}')\""
   ]
  },
  {
   "cell_type": "code",
   "execution_count": 14,
   "id": "1194bd3e",
   "metadata": {},
   "outputs": [],
   "source": [
    "\n",
    "def get_user_data():\n",
    "    users_data = fetch_data_from_api_user()\n",
    "    \n",
    "    if users_data is None:\n",
    "        print(\"\\n[FIN] No se pudieron obtener los datos de usuario.\")\n",
    "        return None\n",
    "    \n",
    "    user_list = [ Usuario(usr) for usr in users_data]\n",
    "    \n",
    "    return user_list\n",
    "        "
   ]
  },
  {
   "cell_type": "code",
   "execution_count": 15,
   "id": "5ed547a7",
   "metadata": {},
   "outputs": [
    {
     "name": "stdout",
     "output_type": "stream",
     "text": [
      "[*] Haciendo solicitud GET a: https://jsonplaceholder.typicode.com/users\n"
     ]
    },
    {
     "data": {
      "text/plain": [
       "[Usuario(Id='1', Name='Leanne Graham', Username='Bret', Email='Sincere@april.biz', Geo='Geo(Latitud='-37.3159', Longitud='81.1496')'),\n",
       " Usuario(Id='2', Name='Ervin Howell', Username='Antonette', Email='Shanna@melissa.tv', Geo='Geo(Latitud='-43.9509', Longitud='-34.4618')'),\n",
       " Usuario(Id='3', Name='Clementine Bauch', Username='Samantha', Email='Nathan@yesenia.net', Geo='Geo(Latitud='-68.6102', Longitud='-47.0653')'),\n",
       " Usuario(Id='4', Name='Patricia Lebsack', Username='Karianne', Email='Julianne.OConner@kory.org', Geo='Geo(Latitud='29.4572', Longitud='-164.2990')'),\n",
       " Usuario(Id='5', Name='Chelsey Dietrich', Username='Kamren', Email='Lucio_Hettinger@annie.ca', Geo='Geo(Latitud='-31.8129', Longitud='62.5342')'),\n",
       " Usuario(Id='6', Name='Mrs. Dennis Schulist', Username='Leopoldo_Corkery', Email='Karley_Dach@jasper.info', Geo='Geo(Latitud='-71.4197', Longitud='71.7478')'),\n",
       " Usuario(Id='7', Name='Kurtis Weissnat', Username='Elwyn.Skiles', Email='Telly.Hoeger@billy.biz', Geo='Geo(Latitud='24.8918', Longitud='21.8984')'),\n",
       " Usuario(Id='8', Name='Nicholas Runolfsdottir V', Username='Maxime_Nienow', Email='Sherwood@rosamond.me', Geo='Geo(Latitud='-14.3990', Longitud='-120.7677')'),\n",
       " Usuario(Id='9', Name='Glenna Reichert', Username='Delphine', Email='Chaim_McDermott@dana.io', Geo='Geo(Latitud='24.6463', Longitud='-168.8889')'),\n",
       " Usuario(Id='10', Name='Clementina DuBuque', Username='Moriah.Stanton', Email='Rey.Padberg@karina.biz', Geo='Geo(Latitud='-38.2386', Longitud='57.2232')')]"
      ]
     },
     "execution_count": 15,
     "metadata": {},
     "output_type": "execute_result"
    }
   ],
   "source": [
    "user_list = get_user_data()\n",
    "user_list"
   ]
  },
  {
   "cell_type": "code",
   "execution_count": 16,
   "id": "17d85ed0",
   "metadata": {},
   "outputs": [
    {
     "name": "stdout",
     "output_type": "stream",
     "text": [
      "[*] Intentando leer el archivo: /Users/kevinaleman/Desktop/Tecnic_test_KEA/jupyter/orders.csv\n",
      "[ÉXITO] Archivo 'orders.csv' cargado correctamente.\n",
      "[*] Filas leídas: 43. Columnas: 7.\n"
     ]
    }
   ],
   "source": [
    "\n",
    "full_list = read_data_from_file()\n",
    "\n",
    "andrew_list_trx = full_list[full_list['Rep'] == 'Andrews']\n",
    "gil_list_trx = full_list[full_list['Rep'] == 'Gill']\n",
    "howard_list_trx = full_list[full_list['Rep'] == 'Howard']\n",
    "jardine_list_trx = full_list[full_list['Rep'] == 'Jardine']\n",
    "jones_list_trx = full_list[full_list['Rep'] == 'Jones']\n",
    "kivell_list_trx = full_list[full_list['Rep'] == 'Kivell']\n",
    "morgan_list_trx = full_list[full_list['Rep'] == 'Morgan']\n",
    "parent_list_trx = full_list[full_list['Rep'] == 'Parent']\n",
    "smith_list_trx = full_list[full_list['Rep'] == 'Smith']\n",
    "sorvino_list_trx = full_list[full_list['Rep'] == 'Sorvino']\n",
    "thompson_list_trx = full_list[full_list['Rep'] == 'Thompson']\n",
    "\n",
    "trx_list = [\n",
    "    andrew_list_trx, \n",
    "    gil_list_trx, \n",
    "    howard_list_trx,\n",
    "    jardine_list_trx,\n",
    "    jones_list_trx,\n",
    "    kivell_list_trx,\n",
    "    morgan_list_trx,\n",
    "    parent_list_trx,\n",
    "    smith_list_trx,\n",
    "    sorvino_list_trx,\n",
    "    thompson_list_trx\n",
    "]"
   ]
  },
  {
   "cell_type": "code",
   "execution_count": null,
   "id": "43b9d79f",
   "metadata": {},
   "outputs": [
    {
     "name": "stdout",
     "output_type": "stream",
     "text": [
      "[*] Haciendo solicitud GET a: https://api.openweathermap.org/data/3.0/onecall?lat=-37.3159&lon=81.1496&appid=6d3845d7ba9032d63278d8eb8be33f07\n",
      "[*] Haciendo solicitud GET a: https://api.openweathermap.org/data/3.0/onecall?lat=-43.9509&lon=-34.4618&appid=6d3845d7ba9032d63278d8eb8be33f07\n",
      "[*] Haciendo solicitud GET a: https://api.openweathermap.org/data/3.0/onecall?lat=-68.6102&lon=-47.0653&appid=6d3845d7ba9032d63278d8eb8be33f07\n",
      "[*] Haciendo solicitud GET a: https://api.openweathermap.org/data/3.0/onecall?lat=29.4572&lon=-164.2990&appid=6d3845d7ba9032d63278d8eb8be33f07\n",
      "[*] Haciendo solicitud GET a: https://api.openweathermap.org/data/3.0/onecall?lat=-31.8129&lon=62.5342&appid=6d3845d7ba9032d63278d8eb8be33f07\n",
      "[*] Haciendo solicitud GET a: https://api.openweathermap.org/data/3.0/onecall?lat=-71.4197&lon=71.7478&appid=6d3845d7ba9032d63278d8eb8be33f07\n",
      "[*] Haciendo solicitud GET a: https://api.openweathermap.org/data/3.0/onecall?lat=24.8918&lon=21.8984&appid=6d3845d7ba9032d63278d8eb8be33f07\n",
      "[*] Haciendo solicitud GET a: https://api.openweathermap.org/data/3.0/onecall?lat=-14.3990&lon=-120.7677&appid=6d3845d7ba9032d63278d8eb8be33f07\n",
      "[*] Haciendo solicitud GET a: https://api.openweathermap.org/data/3.0/onecall?lat=24.6463&lon=-168.8889&appid=6d3845d7ba9032d63278d8eb8be33f07\n",
      "[*] Haciendo solicitud GET a: https://api.openweathermap.org/data/3.0/onecall?lat=-38.2386&lon=57.2232&appid=6d3845d7ba9032d63278d8eb8be33f07\n"
     ]
    },
    {
     "ename": "FileNotFoundError",
     "evalue": "[Errno 2] No such file or directory: 'jupyter/integration_output.json'",
     "output_type": "error",
     "traceback": [
      "\u001b[0;31m---------------------------------------------------------------------------\u001b[0m",
      "\u001b[0;31mFileNotFoundError\u001b[0m                         Traceback (most recent call last)",
      "Cell \u001b[0;32mIn[17], line 6\u001b[0m\n\u001b[1;32m      3\u001b[0m     sale_usr \u001b[38;5;241m=\u001b[39m SalesUsuarios(usr, SaleSummary(trx_list))\n\u001b[1;32m      4\u001b[0m     response\u001b[38;5;241m.\u001b[39mappend(asdict(sale_usr)) \n\u001b[0;32m----> 6\u001b[0m \u001b[38;5;28;01mwith\u001b[39;00m \u001b[38;5;28;43mopen\u001b[39;49m\u001b[43m(\u001b[49m\u001b[38;5;124;43m\"\u001b[39;49m\u001b[38;5;124;43mjupyter/integration_output.json\u001b[39;49m\u001b[38;5;124;43m\"\u001b[39;49m\u001b[43m,\u001b[49m\u001b[43m \u001b[49m\u001b[38;5;124;43m\"\u001b[39;49m\u001b[38;5;124;43mw\u001b[39;49m\u001b[38;5;124;43m\"\u001b[39;49m\u001b[43m,\u001b[49m\u001b[43m \u001b[49m\u001b[43mencoding\u001b[49m\u001b[38;5;241;43m=\u001b[39;49m\u001b[38;5;124;43m\"\u001b[39;49m\u001b[38;5;124;43mutf-8\u001b[39;49m\u001b[38;5;124;43m\"\u001b[39;49m\u001b[43m)\u001b[49m \u001b[38;5;28;01mas\u001b[39;00m f:\n\u001b[1;32m      7\u001b[0m     json\u001b[38;5;241m.\u001b[39mdump(response, f, indent\u001b[38;5;241m=\u001b[39m\u001b[38;5;241m4\u001b[39m, ensure_ascii\u001b[38;5;241m=\u001b[39m\u001b[38;5;28;01mFalse\u001b[39;00m)\n",
      "File \u001b[0;32m~/Library/Python/3.10/lib/python/site-packages/IPython/core/interactiveshell.py:324\u001b[0m, in \u001b[0;36m_modified_open\u001b[0;34m(file, *args, **kwargs)\u001b[0m\n\u001b[1;32m    317\u001b[0m \u001b[38;5;28;01mif\u001b[39;00m file \u001b[38;5;129;01min\u001b[39;00m {\u001b[38;5;241m0\u001b[39m, \u001b[38;5;241m1\u001b[39m, \u001b[38;5;241m2\u001b[39m}:\n\u001b[1;32m    318\u001b[0m     \u001b[38;5;28;01mraise\u001b[39;00m \u001b[38;5;167;01mValueError\u001b[39;00m(\n\u001b[1;32m    319\u001b[0m         \u001b[38;5;124mf\u001b[39m\u001b[38;5;124m\"\u001b[39m\u001b[38;5;124mIPython won\u001b[39m\u001b[38;5;124m'\u001b[39m\u001b[38;5;124mt let you open fd=\u001b[39m\u001b[38;5;132;01m{\u001b[39;00mfile\u001b[38;5;132;01m}\u001b[39;00m\u001b[38;5;124m by default \u001b[39m\u001b[38;5;124m\"\u001b[39m\n\u001b[1;32m    320\u001b[0m         \u001b[38;5;124m\"\u001b[39m\u001b[38;5;124mas it is likely to crash IPython. If you know what you are doing, \u001b[39m\u001b[38;5;124m\"\u001b[39m\n\u001b[1;32m    321\u001b[0m         \u001b[38;5;124m\"\u001b[39m\u001b[38;5;124myou can use builtins\u001b[39m\u001b[38;5;124m'\u001b[39m\u001b[38;5;124m open.\u001b[39m\u001b[38;5;124m\"\u001b[39m\n\u001b[1;32m    322\u001b[0m     )\n\u001b[0;32m--> 324\u001b[0m \u001b[38;5;28;01mreturn\u001b[39;00m \u001b[43mio_open\u001b[49m\u001b[43m(\u001b[49m\u001b[43mfile\u001b[49m\u001b[43m,\u001b[49m\u001b[43m \u001b[49m\u001b[38;5;241;43m*\u001b[39;49m\u001b[43margs\u001b[49m\u001b[43m,\u001b[49m\u001b[43m \u001b[49m\u001b[38;5;241;43m*\u001b[39;49m\u001b[38;5;241;43m*\u001b[39;49m\u001b[43mkwargs\u001b[49m\u001b[43m)\u001b[49m\n",
      "\u001b[0;31mFileNotFoundError\u001b[0m: [Errno 2] No such file or directory: 'jupyter/integration_output.json'"
     ]
    }
   ],
   "source": [
    "\n",
    "response = []\n",
    "for usr, trx_list in zip(user_list, trx_list):\n",
    "    sale_usr = SalesUsuarios(usr, SaleSummary(trx_list))\n",
    "    response.append(asdict(sale_usr)) \n",
    "\n",
    "with open(\"integration_output.json\", \"w\", encoding=\"utf-8\") as f:\n",
    "    json.dump(response, f, indent=4, ensure_ascii=False)"
   ]
  }
 ],
 "metadata": {
  "kernelspec": {
   "display_name": "Python 3",
   "language": "python",
   "name": "python3"
  },
  "language_info": {
   "codemirror_mode": {
    "name": "ipython",
    "version": 3
   },
   "file_extension": ".py",
   "mimetype": "text/x-python",
   "name": "python",
   "nbconvert_exporter": "python",
   "pygments_lexer": "ipython3",
   "version": "3.10.17"
  }
 },
 "nbformat": 4,
 "nbformat_minor": 5
}
